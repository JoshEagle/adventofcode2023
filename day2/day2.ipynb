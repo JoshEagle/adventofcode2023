{
 "cells": [
  {
   "cell_type": "code",
   "execution_count": 1,
   "id": "0c9f4588",
   "metadata": {},
   "outputs": [],
   "source": [
    "def load_data(file_path):\n",
    "    \"\"\"\n",
    "    Parses a .txt file from 'path', and appends each line as an entry to a list. \n",
    "\n",
    "    Input: .txt file \n",
    "    Output: list of lines\n",
    "    \"\"\"\n",
    "    with open(file_path) as f:\n",
    "        data = [line.strip() for line in f.readlines()]\n",
    "    \n",
    "    return data"
   ]
  },
  {
   "cell_type": "code",
   "execution_count": 2,
   "id": "2ae63808",
   "metadata": {
    "scrolled": true
   },
   "outputs": [
    {
     "data": {
      "text/plain": [
       "['Game 1: 10 green, 5 blue; 1 red, 9 green, 10 blue; 5 blue, 6 green, 2 red; 7 green, 9 blue, 1 red; 2 red, 10 blue, 10 green; 7 blue, 1 red',\n",
       " 'Game 2: 7 green, 5 red, 3 blue; 4 blue, 7 green, 8 red; 9 blue, 4 green; 6 green, 3 red, 4 blue',\n",
       " 'Game 3: 2 green, 4 blue, 13 red; 15 blue, 9 red, 3 green; 3 red, 18 blue, 3 green; 6 red, 4 green, 2 blue; 6 blue, 13 red',\n",
       " 'Game 4: 9 red, 1 green, 13 blue; 3 red; 2 blue, 6 red, 1 green; 12 blue, 2 red',\n",
       " 'Game 5: 1 red, 8 green; 2 red, 8 green, 8 blue; 1 red, 11 green; 5 blue, 11 green; 11 blue, 2 green; 10 blue, 2 red, 1 green']"
      ]
     },
     "execution_count": 2,
     "metadata": {},
     "output_type": "execute_result"
    }
   ],
   "source": [
    "data = load_data('input.txt')\n",
    "data[0:5]"
   ]
  },
  {
   "cell_type": "markdown",
   "id": "7cacd576",
   "metadata": {},
   "source": [
    "## Part 1"
   ]
  },
  {
   "cell_type": "code",
   "execution_count": 6,
   "id": "9b85d63a",
   "metadata": {},
   "outputs": [
    {
     "data": {
      "text/plain": [
       "[' 10 green, 5 blue',\n",
       " ' 1 red, 9 green, 10 blue',\n",
       " ' 5 blue, 6 green, 2 red',\n",
       " ' 7 green, 9 blue, 1 red',\n",
       " ' 2 red, 10 blue, 10 green',\n",
       " ' 7 blue, 1 red']"
      ]
     },
     "execution_count": 6,
     "metadata": {},
     "output_type": "execute_result"
    }
   ],
   "source": [
    "data[0].split(':')[1].split(';')"
   ]
  },
  {
   "cell_type": "code",
   "execution_count": 9,
   "id": "9123ae98",
   "metadata": {},
   "outputs": [
    {
     "data": {
      "text/plain": [
       "' 1 red, 9 green, 10 blue'"
      ]
     },
     "execution_count": 9,
     "metadata": {},
     "output_type": "execute_result"
    }
   ],
   "source": [
    "test = data[0].split(':')[1].split(';')\n",
    "test[1]"
   ]
  },
  {
   "cell_type": "code",
   "execution_count": 13,
   "id": "1abd6048",
   "metadata": {},
   "outputs": [],
   "source": [
    "game_dict = {}\n",
    "for line in data:\n",
    "    game_id = line.split(':')[0][-1]\n",
    "    results = line.split(':')[1].split(';')\n",
    "    game_dict[game_id] = results\n",
    "    "
   ]
  },
  {
   "cell_type": "code",
   "execution_count": 14,
   "id": "1200a634",
   "metadata": {},
   "outputs": [
    {
     "data": {
      "text/plain": [
       "{'1': [' 16 red, 10 blue, 1 green',\n",
       "  ' 13 green, 13 red, 19 blue',\n",
       "  ' 11 blue, 12 green, 2 red'],\n",
       " '2': [' 8 blue, 4 green, 5 red',\n",
       "  ' 7 blue, 4 red',\n",
       "  ' 2 green, 15 blue',\n",
       "  ' 16 blue, 4 red',\n",
       "  ' 1 red, 7 green, 16 blue',\n",
       "  ' 11 blue, 1 red, 3 green'],\n",
       " '3': [' 12 green, 2 blue, 2 red',\n",
       "  ' 8 red, 16 green, 8 blue',\n",
       "  ' 15 red, 4 blue, 7 green',\n",
       "  ' 1 red, 4 blue, 15 green',\n",
       "  ' 13 green, 5 red, 4 blue',\n",
       "  ' 5 green, 8 blue, 12 red'],\n",
       " '4': [' 13 green, 10 red',\n",
       "  ' 11 red, 19 green, 1 blue',\n",
       "  ' 1 blue, 10 red, 12 green',\n",
       "  ' 18 green, 9 red, 1 blue',\n",
       "  ' 8 green, 1 red'],\n",
       " '5': [' 3 green, 4 blue', ' 2 red, 2 green, 2 blue', ' 7 red, 3 green'],\n",
       " '6': [' 5 red, 7 green',\n",
       "  ' 4 blue, 14 green, 10 red',\n",
       "  ' 13 green',\n",
       "  ' 13 green, 3 blue',\n",
       "  ' 13 green, 1 red, 3 blue',\n",
       "  ' 12 red, 1 green'],\n",
       " '7': [' 2 green, 1 blue',\n",
       "  ' 9 red',\n",
       "  ' 4 blue, 8 red',\n",
       "  ' 4 green, 1 red, 14 blue',\n",
       "  ' 2 green, 9 blue',\n",
       "  ' 1 red, 6 blue, 2 green'],\n",
       " '8': [' 12 green, 9 blue, 13 red', ' 6 red, 7 blue', ' 2 blue, 2 green'],\n",
       " '9': [' 9 red, 3 green, 10 blue',\n",
       "  ' 10 red, 10 blue, 4 green',\n",
       "  ' 2 green, 15 blue, 3 red',\n",
       "  ' 12 blue, 4 red'],\n",
       " '0': [' 15 blue, 6 red',\n",
       "  ' 1 green, 2 red',\n",
       "  ' 12 blue, 8 green, 1 red',\n",
       "  ' 1 red, 7 blue']}"
      ]
     },
     "execution_count": 14,
     "metadata": {},
     "output_type": "execute_result"
    }
   ],
   "source": [
    "game_dict"
   ]
  }
 ],
 "metadata": {
  "kernelspec": {
   "display_name": "Python 3 (ipykernel)",
   "language": "python",
   "name": "python3"
  },
  "language_info": {
   "codemirror_mode": {
    "name": "ipython",
    "version": 3
   },
   "file_extension": ".py",
   "mimetype": "text/x-python",
   "name": "python",
   "nbconvert_exporter": "python",
   "pygments_lexer": "ipython3",
   "version": "3.10.6"
  },
  "toc": {
   "base_numbering": 1,
   "nav_menu": {},
   "number_sections": true,
   "sideBar": true,
   "skip_h1_title": false,
   "title_cell": "Table of Contents",
   "title_sidebar": "Contents",
   "toc_cell": false,
   "toc_position": {},
   "toc_section_display": true,
   "toc_window_display": false
  }
 },
 "nbformat": 4,
 "nbformat_minor": 5
}
